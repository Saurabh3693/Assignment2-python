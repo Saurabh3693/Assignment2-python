{
  "nbformat": 4,
  "nbformat_minor": 0,
  "metadata": {
    "colab": {
      "provenance": []
    },
    "kernelspec": {
      "name": "python3",
      "display_name": "Python 3"
    },
    "language_info": {
      "name": "python"
    }
  },
  "cells": [
    {
      "cell_type": "markdown",
      "source": [
        "Q1. How do you comment code in Python? What are the different types of comments?"
      ],
      "metadata": {
        "id": "yUFsVl234eh-"
      }
    },
    {
      "cell_type": "markdown",
      "source": [
        "With a hash symbol#\n",
        "1)Single line comments\n",
        "2)Multi line comments\n",
        "3)Block comments"
      ],
      "metadata": {
        "id": "2Y9S9gXC439P"
      }
    },
    {
      "cell_type": "markdown",
      "source": [
        "Q2. What are variables in Python? How do you declare and assign values to variables?"
      ],
      "metadata": {
        "id": "UFTlXcdN5aXc"
      }
    },
    {
      "cell_type": "markdown",
      "source": [
        "Python variables is a named location used to store data in the memory.\n",
        "A variable name must start with a letter or Underscore_\n",
        "The = symbol is known as the assignment operator"
      ],
      "metadata": {
        "id": "BZrXl6Pn5n9R"
      }
    },
    {
      "cell_type": "markdown",
      "source": [
        "Q3. How do you convert one data type to another in Python?\n"
      ],
      "metadata": {
        "id": "cy25QxpU8Lzm"
      }
    },
    {
      "cell_type": "markdown",
      "source": [
        "With the help of 'Type Conversions'"
      ],
      "metadata": {
        "id": "cK3tJUsJ8RPw"
      }
    },
    {
      "cell_type": "markdown",
      "source": [
        "Q4. How do you write and execute a Python script from the command line?\n"
      ],
      "metadata": {
        "id": "QHDpfi5x8jA8"
      }
    },
    {
      "cell_type": "code",
      "source": [
        " x = 'hello world'\n",
        " print(x)"
      ],
      "metadata": {
        "colab": {
          "base_uri": "https://localhost:8080/"
        },
        "id": "aSBrFwVd9aLr",
        "outputId": "a1dd24d2-b9fe-43fc-d79e-908281bb9fc9"
      },
      "execution_count": 26,
      "outputs": [
        {
          "output_type": "stream",
          "name": "stdout",
          "text": [
            "hello world\n"
          ]
        }
      ]
    },
    {
      "cell_type": "markdown",
      "source": [
        "Q5. Given a list my_list = [1, 2, 3, 4, 5], write the code to slice the list and obtain the sub-list [2, 3]."
      ],
      "metadata": {
        "id": "qJ5tpFix-RHm"
      }
    },
    {
      "cell_type": "code",
      "source": [
        "my_list = [1,2,3,4,5]\n",
        "my_list[1:3]"
      ],
      "metadata": {
        "colab": {
          "base_uri": "https://localhost:8080/"
        },
        "id": "Ai4c1n7V-PZx",
        "outputId": "6a4a9cb1-4132-4f38-cccc-ba2f4ebc28b3"
      },
      "execution_count": 31,
      "outputs": [
        {
          "output_type": "execute_result",
          "data": {
            "text/plain": [
              "[2, 3]"
            ]
          },
          "metadata": {},
          "execution_count": 31
        }
      ]
    },
    {
      "cell_type": "markdown",
      "source": [
        "Q6. What is a complex number in mathematics, and how is it represented in Python?"
      ],
      "metadata": {
        "id": "cWyRkOVMBunT"
      }
    },
    {
      "cell_type": "markdown",
      "source": [
        "Complex number means Combination of both Real and Imaginary number.\n",
        "It will be represent as j in python"
      ],
      "metadata": {
        "id": "odBFzyY9B5yW"
      }
    },
    {
      "cell_type": "markdown",
      "source": [
        "Q7. What is the correct way to declare a variable named age and assign the value 25 to it?\n"
      ],
      "metadata": {
        "id": "P5M3G0wZCQ26"
      }
    },
    {
      "cell_type": "code",
      "source": [
        "age = 25"
      ],
      "metadata": {
        "id": "b_k89w16Cl_W"
      },
      "execution_count": 32,
      "outputs": []
    },
    {
      "cell_type": "markdown",
      "source": [
        "Q8. Declare a variable named price and assign the value 9.99 to it. What data type does this variable  belong to?\n"
      ],
      "metadata": {
        "id": "UcDf_BWWC178"
      }
    },
    {
      "cell_type": "code",
      "source": [
        "price = 9.99\n",
        "type(price)"
      ],
      "metadata": {
        "colab": {
          "base_uri": "https://localhost:8080/"
        },
        "id": "kzDNwc2rC4Yg",
        "outputId": "9d4f7445-e8c7-4445-8e77-65c8e3b52653"
      },
      "execution_count": 33,
      "outputs": [
        {
          "output_type": "execute_result",
          "data": {
            "text/plain": [
              "float"
            ]
          },
          "metadata": {},
          "execution_count": 33
        }
      ]
    },
    {
      "cell_type": "markdown",
      "source": [
        "Q9. Create a variable named name and assign your full name to it as a string. How would you print the  value of this variable?\n"
      ],
      "metadata": {
        "id": "gEo4gMHmDAPK"
      }
    },
    {
      "cell_type": "code",
      "source": [
        "name = 'saurabh sahebrao jadhav'\n",
        "type(name)"
      ],
      "metadata": {
        "colab": {
          "base_uri": "https://localhost:8080/"
        },
        "id": "Bk9Q8gUYDFU-",
        "outputId": "e2ef9fbb-4a56-40ce-d1ee-6bb8001739fa"
      },
      "execution_count": 39,
      "outputs": [
        {
          "output_type": "execute_result",
          "data": {
            "text/plain": [
              "str"
            ]
          },
          "metadata": {},
          "execution_count": 39
        }
      ]
    },
    {
      "cell_type": "code",
      "source": [
        "print(name)"
      ],
      "metadata": {
        "colab": {
          "base_uri": "https://localhost:8080/"
        },
        "id": "psp1A4ePDwk9",
        "outputId": "80ffc7e8-9d46-4978-fcc3-be2b92ad7ded"
      },
      "execution_count": 40,
      "outputs": [
        {
          "output_type": "stream",
          "name": "stdout",
          "text": [
            "saurabh sahebrao jadhav\n"
          ]
        }
      ]
    },
    {
      "cell_type": "markdown",
      "source": [
        "Q10. Given the string \"Hello, World!\", extract the substring \"World\".\n"
      ],
      "metadata": {
        "id": "562U4YRdFRT8"
      }
    },
    {
      "cell_type": "code",
      "source": [
        "s = \"hello,world!\"\n",
        "print(s[6::])"
      ],
      "metadata": {
        "colab": {
          "base_uri": "https://localhost:8080/"
        },
        "id": "3Z7_nrF2FE04",
        "outputId": "9882f91c-489e-42d5-81b4-bd4fe322c08e"
      },
      "execution_count": 44,
      "outputs": [
        {
          "output_type": "stream",
          "name": "stdout",
          "text": [
            "world!\n"
          ]
        }
      ]
    },
    {
      "cell_type": "markdown",
      "source": [
        "Q11. Create a variable named \"is_student\" and assign it a boolean value indicating whether you are  currently a student or not.\n"
      ],
      "metadata": {
        "id": "xtmjKU-tGSAv"
      }
    },
    {
      "cell_type": "code",
      "source": [
        "'is_student' = True\n",
        "type('is_student')"
      ],
      "metadata": {
        "colab": {
          "base_uri": "https://localhost:8080/",
          "height": 131
        },
        "id": "2mqzaPcTFxJE",
        "outputId": "187af65b-e07c-4c69-b584-9bec70fa7e17"
      },
      "execution_count": 46,
      "outputs": [
        {
          "output_type": "error",
          "ename": "SyntaxError",
          "evalue": "ignored",
          "traceback": [
            "\u001b[0;36m  File \u001b[0;32m\"<ipython-input-46-8ae586f3a537>\"\u001b[0;36m, line \u001b[0;32m1\u001b[0m\n\u001b[0;31m    'is_student' = True\u001b[0m\n\u001b[0m    ^\u001b[0m\n\u001b[0;31mSyntaxError\u001b[0m\u001b[0;31m:\u001b[0m cannot assign to literal here. Maybe you meant '==' instead of '='?\n"
          ]
        }
      ]
    },
    {
      "cell_type": "code",
      "source": [],
      "metadata": {
        "id": "EnSlk0APHHDq"
      },
      "execution_count": null,
      "outputs": []
    }
  ]
}